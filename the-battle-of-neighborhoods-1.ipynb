{
 "cells": [
  {
   "cell_type": "markdown",
   "metadata": {},
   "source": [
    "# The Battle of Neighborhoods 1"
   ]
  },
  {
   "cell_type": "markdown",
   "metadata": {},
   "source": [
    "## 1.Business Problem"
   ]
  },
  {
   "cell_type": "markdown",
   "metadata": {},
   "source": [
    "Canada is a diversified country with various types of cuisine. When it comes to categorizing these dishes into Canadian food, it might be a challenging task since Canadian cuisine varies significantly depending on the regions of the nation in Canada. As a matter of fact,most of the people living in Canada enjoy eating western cuisine which are having similar characteristics with the cuisine in the Europe and American regions. These cuisine are mainly of strong emphasis on the ingredient of food such as the composition of fresh fruits and vegetable and questionable amounts of salt and sugar."
   ]
  },
  {
   "cell_type": "markdown",
   "metadata": {},
   "source": [
    "In my project, I will attempt to demonstrate the facvt that Toronto has wide variety of resturants. The major purpose of this project is to facilitate the opening of new food shops in Toronto with considering the demographics, characteristics and income distribution so as to make a better decision in business operation."
   ]
  },
  {
   "cell_type": "markdown",
   "metadata": {},
   "source": [
    "## 2. Processes"
   ]
  },
  {
   "cell_type": "markdown",
   "metadata": {},
   "source": [
    "a. Collect the relevant data\n",
    "\n",
    "b. Store the cleaned-up data in a Dataframe for processing\n",
    "\n",
    "c. Use FourSquare API\n",
    "\n",
    "d. Figure out the required location\n",
    "\n",
    "e. Demontrate the ranking of neighborhoods using folium library(python) with considering the comments, location, popularity and taste"
   ]
  },
  {
   "cell_type": "markdown",
   "metadata": {},
   "source": [
    "## 3. Method of Analysis"
   ]
  },
  {
   "cell_type": "markdown",
   "metadata": {},
   "source": [
    "\n",
    "a.Import libraries such as panadas, numpy in the python script\n",
    "\n",
    "b.Use FourSquare API"
   ]
  },
  {
   "cell_type": "markdown",
   "metadata": {},
   "source": [
    "## 4. Use of Data"
   ]
  },
  {
   "cell_type": "markdown",
   "metadata": {},
   "source": [
    "\n",
    "a. https://en.wikipedia.org/wiki/List_of_postal_codes_of_Canada:_M This website is \"Toronto City data that contains list Boroughs, Neighborhoods\"\n",
    "\n",
    "b. http://cocl.us/Geospatial_data This website includes the latitudes and longitude."
   ]
  },
  {
   "cell_type": "code",
   "execution_count": null,
   "metadata": {},
   "outputs": [],
   "source": []
  }
 ],
 "metadata": {
  "kernelspec": {
   "display_name": "Python 3",
   "language": "python",
   "name": "python3"
  },
  "language_info": {
   "codemirror_mode": {
    "name": "ipython",
    "version": 3
   },
   "file_extension": ".py",
   "mimetype": "text/x-python",
   "name": "python",
   "nbconvert_exporter": "python",
   "pygments_lexer": "ipython3",
   "version": "3.7.4"
  }
 },
 "nbformat": 4,
 "nbformat_minor": 2
}
