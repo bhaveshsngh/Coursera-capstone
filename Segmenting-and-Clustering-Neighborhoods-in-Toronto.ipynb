{
 "cells": [
  {
   "cell_type": "markdown",
   "metadata": {},
   "source": [
    "# 1. Scraping Wikipedia to Build the Dataframe"
   ]
  },
  {
   "cell_type": "markdown",
   "metadata": {},
   "source": [
    "##  Importing the libraries needed"
   ]
  },
  {
   "cell_type": "code",
   "execution_count": 1,
   "metadata": {},
   "outputs": [
    {
     "name": "stdout",
     "output_type": "stream",
     "text": [
      "Libraries imported.\n"
     ]
    }
   ],
   "source": [
    "import numpy as np \n",
    "import pandas as pd # library for data analsysis\n",
    "pd.set_option('display.max_columns', None) \n",
    "pd.set_option('display.max_rows', None)\n",
    "\n",
    "#max_info_rows is the maximum number of rows for which a frame will perform a null check on its columns when.\n",
    "#A value of None means always perform a null check when repr'ing.\n",
    "\n",
    "import json # library to handle JSON files\n",
    "\n",
    "from geopy.geocoders import Nominatim # convert an address into latitude and longitude values\n",
    "\n",
    "import requests # library to handle requests\n",
    "from pandas.io.json import json_normalize # tranform JSON file into a pandas dataframe\n",
    "\n",
    "#Beautiful Soup\n",
    "from bs4 import BeautifulSoup\n",
    "\n",
    "# Matplotlib and associated plotting modules\n",
    "import matplotlib.cm as cm\n",
    "import matplotlib.colors as colors\n",
    "\n",
    "# import k-means from clustering stage\n",
    "from sklearn.cluster import KMeans\n",
    "\n",
    " \n",
    "import folium # map rendering library\n",
    "\n",
    "print('Libraries imported.')"
   ]
  },
  {
   "cell_type": "markdown",
   "metadata": {},
   "source": [
    "## Reading table info from wikipedia"
   ]
  },
  {
   "cell_type": "code",
   "execution_count": 2,
   "metadata": {},
   "outputs": [],
   "source": [
    "wikiresults = requests.get('https://en.wikipedia.org/wiki/List_of_postal_codes_of_Canada:_M').text\n",
    "soup = BeautifulSoup(wikiresults,\"lxml\")"
   ]
  },
  {
   "cell_type": "code",
   "execution_count": 3,
   "metadata": {},
   "outputs": [],
   "source": [
    "table = soup.find( 'table', {'class':'wikitable sortable'})  #find table and print table \n",
    "#print (wiki_table)"
   ]
  },
  {
   "cell_type": "code",
   "execution_count": 4,
   "metadata": {},
   "outputs": [
    {
     "name": "stdout",
     "output_type": "stream",
     "text": [
      "['Postcode', 'Borough', 'Neighbourhood']\n"
     ]
    }
   ],
   "source": [
    "rows= table.find_all('tr') ##tr=talble rows\n",
    "#print(rows)\n",
    "column_names= [v.text.replace('\\n', '') for v in rows[0].find_all('th')]  #th=table header\n",
    "print(column_names)"
   ]
  },
  {
   "cell_type": "code",
   "execution_count": 5,
   "metadata": {},
   "outputs": [],
   "source": [
    "tabledata = soup.find('table')\n",
    "colvals = tabledata.find_all('td')    #td=table data\n",
    "elem_cnt = len(colvals)\n",
    "postcode = []\n",
    "borough = []\n",
    "neighborhood = []\n",
    "\n",
    "for i in range(0, elem_cnt, 3):\n",
    "        postcode.append(colvals[i].text.strip())\n",
    "        borough.append(colvals[i+1].text.strip())\n",
    "        neighborhood.append(colvals[i+2].text.strip())"
   ]
  },
  {
   "cell_type": "markdown",
   "metadata": {},
   "source": [
    "### Building dataframe"
   ]
  },
  {
   "cell_type": "code",
   "execution_count": 6,
   "metadata": {},
   "outputs": [
    {
     "data": {
      "text/html": [
       "<div>\n",
       "<style scoped>\n",
       "    .dataframe tbody tr th:only-of-type {\n",
       "        vertical-align: middle;\n",
       "    }\n",
       "\n",
       "    .dataframe tbody tr th {\n",
       "        vertical-align: top;\n",
       "    }\n",
       "\n",
       "    .dataframe thead th {\n",
       "        text-align: right;\n",
       "    }\n",
       "</style>\n",
       "<table border=\"1\" class=\"dataframe\">\n",
       "  <thead>\n",
       "    <tr style=\"text-align: right;\">\n",
       "      <th></th>\n",
       "      <th>Postcode</th>\n",
       "      <th>Borough</th>\n",
       "      <th>Neighborhood</th>\n",
       "    </tr>\n",
       "  </thead>\n",
       "  <tbody>\n",
       "    <tr>\n",
       "      <th>0</th>\n",
       "      <td>M1A</td>\n",
       "      <td>Not assigned</td>\n",
       "      <td>Not assigned</td>\n",
       "    </tr>\n",
       "    <tr>\n",
       "      <th>1</th>\n",
       "      <td>M2A</td>\n",
       "      <td>Not assigned</td>\n",
       "      <td>Not assigned</td>\n",
       "    </tr>\n",
       "    <tr>\n",
       "      <th>2</th>\n",
       "      <td>M3A</td>\n",
       "      <td>North York</td>\n",
       "      <td>Parkwoods</td>\n",
       "    </tr>\n",
       "    <tr>\n",
       "      <th>3</th>\n",
       "      <td>M4A</td>\n",
       "      <td>North York</td>\n",
       "      <td>Victoria Village</td>\n",
       "    </tr>\n",
       "    <tr>\n",
       "      <th>4</th>\n",
       "      <td>M5A</td>\n",
       "      <td>Downtown Toronto</td>\n",
       "      <td>Harbourfront</td>\n",
       "    </tr>\n",
       "  </tbody>\n",
       "</table>\n",
       "</div>"
      ],
      "text/plain": [
       "  Postcode           Borough      Neighborhood\n",
       "0      M1A      Not assigned      Not assigned\n",
       "1      M2A      Not assigned      Not assigned\n",
       "2      M3A        North York         Parkwoods\n",
       "3      M4A        North York  Victoria Village\n",
       "4      M5A  Downtown Toronto      Harbourfront"
      ]
     },
     "execution_count": 6,
     "metadata": {},
     "output_type": "execute_result"
    }
   ],
   "source": [
    "df = pd.DataFrame(data=[postcode, borough, neighborhood]).transpose()\n",
    "df.columns = ['Postcode', 'Borough', 'Neighborhood']\n",
    "df.head()"
   ]
  },
  {
   "cell_type": "markdown",
   "metadata": {},
   "source": [
    "### Cleaning data"
   ]
  },
  {
   "cell_type": "code",
   "execution_count": 7,
   "metadata": {},
   "outputs": [
    {
     "data": {
      "text/html": [
       "<div>\n",
       "<style scoped>\n",
       "    .dataframe tbody tr th:only-of-type {\n",
       "        vertical-align: middle;\n",
       "    }\n",
       "\n",
       "    .dataframe tbody tr th {\n",
       "        vertical-align: top;\n",
       "    }\n",
       "\n",
       "    .dataframe thead th {\n",
       "        text-align: right;\n",
       "    }\n",
       "</style>\n",
       "<table border=\"1\" class=\"dataframe\">\n",
       "  <thead>\n",
       "    <tr style=\"text-align: right;\">\n",
       "      <th></th>\n",
       "      <th>Postcode</th>\n",
       "      <th>Borough</th>\n",
       "      <th>Neighborhood</th>\n",
       "    </tr>\n",
       "  </thead>\n",
       "  <tbody>\n",
       "    <tr>\n",
       "      <th>0</th>\n",
       "      <td>M1B</td>\n",
       "      <td>Scarborough</td>\n",
       "      <td>Rouge, Malvern</td>\n",
       "    </tr>\n",
       "    <tr>\n",
       "      <th>1</th>\n",
       "      <td>M1C</td>\n",
       "      <td>Scarborough</td>\n",
       "      <td>Highland Creek, Rouge Hill, Port Union</td>\n",
       "    </tr>\n",
       "    <tr>\n",
       "      <th>2</th>\n",
       "      <td>M1E</td>\n",
       "      <td>Scarborough</td>\n",
       "      <td>Guildwood, Morningside, West Hill</td>\n",
       "    </tr>\n",
       "    <tr>\n",
       "      <th>3</th>\n",
       "      <td>M1G</td>\n",
       "      <td>Scarborough</td>\n",
       "      <td>Woburn</td>\n",
       "    </tr>\n",
       "    <tr>\n",
       "      <th>4</th>\n",
       "      <td>M1H</td>\n",
       "      <td>Scarborough</td>\n",
       "      <td>Cedarbrae</td>\n",
       "    </tr>\n",
       "  </tbody>\n",
       "</table>\n",
       "</div>"
      ],
      "text/plain": [
       "  Postcode      Borough                            Neighborhood\n",
       "0      M1B  Scarborough                          Rouge, Malvern\n",
       "1      M1C  Scarborough  Highland Creek, Rouge Hill, Port Union\n",
       "2      M1E  Scarborough       Guildwood, Morningside, West Hill\n",
       "3      M1G  Scarborough                                  Woburn\n",
       "4      M1H  Scarborough                               Cedarbrae"
      ]
     },
     "execution_count": 7,
     "metadata": {},
     "output_type": "execute_result"
    }
   ],
   "source": [
    "df.drop(df[df['Borough'] == 'Not assigned'].index, inplace=True)\n",
    "df.loc[df.Neighborhood == 'Not assigned', \"Neighborhood\"] = df.Borough\n",
    "df_grouped = df.groupby(['Postcode', 'Borough'])['Neighborhood'].apply(', '.join).reset_index()\n",
    "df_grouped.columns = ['Postcode', 'Borough', 'Neighborhood']\n",
    "df_grouped.head()"
   ]
  },
  {
   "cell_type": "code",
   "execution_count": 8,
   "metadata": {},
   "outputs": [
    {
     "data": {
      "text/plain": [
       "(103, 3)"
      ]
     },
     "execution_count": 8,
     "metadata": {},
     "output_type": "execute_result"
    }
   ],
   "source": [
    "df_grouped.shape"
   ]
  },
  {
   "cell_type": "markdown",
   "metadata": {},
   "source": [
    "# 2.Buliding the Dataframe"
   ]
  },
  {
   "cell_type": "markdown",
   "metadata": {},
   "source": [
    "### Downloading and Reading the Geospatial data"
   ]
  },
  {
   "cell_type": "code",
   "execution_count": 9,
   "metadata": {},
   "outputs": [
    {
     "data": {
      "text/html": [
       "<div>\n",
       "<style scoped>\n",
       "    .dataframe tbody tr th:only-of-type {\n",
       "        vertical-align: middle;\n",
       "    }\n",
       "\n",
       "    .dataframe tbody tr th {\n",
       "        vertical-align: top;\n",
       "    }\n",
       "\n",
       "    .dataframe thead th {\n",
       "        text-align: right;\n",
       "    }\n",
       "</style>\n",
       "<table border=\"1\" class=\"dataframe\">\n",
       "  <thead>\n",
       "    <tr style=\"text-align: right;\">\n",
       "      <th></th>\n",
       "      <th>Postal Code</th>\n",
       "      <th>Latitude</th>\n",
       "      <th>Longitude</th>\n",
       "    </tr>\n",
       "  </thead>\n",
       "  <tbody>\n",
       "    <tr>\n",
       "      <th>0</th>\n",
       "      <td>M1B</td>\n",
       "      <td>43.806686</td>\n",
       "      <td>-79.194353</td>\n",
       "    </tr>\n",
       "    <tr>\n",
       "      <th>1</th>\n",
       "      <td>M1C</td>\n",
       "      <td>43.784535</td>\n",
       "      <td>-79.160497</td>\n",
       "    </tr>\n",
       "    <tr>\n",
       "      <th>2</th>\n",
       "      <td>M1E</td>\n",
       "      <td>43.763573</td>\n",
       "      <td>-79.188711</td>\n",
       "    </tr>\n",
       "    <tr>\n",
       "      <th>3</th>\n",
       "      <td>M1G</td>\n",
       "      <td>43.770992</td>\n",
       "      <td>-79.216917</td>\n",
       "    </tr>\n",
       "    <tr>\n",
       "      <th>4</th>\n",
       "      <td>M1H</td>\n",
       "      <td>43.773136</td>\n",
       "      <td>-79.239476</td>\n",
       "    </tr>\n",
       "  </tbody>\n",
       "</table>\n",
       "</div>"
      ],
      "text/plain": [
       "  Postal Code   Latitude  Longitude\n",
       "0         M1B  43.806686 -79.194353\n",
       "1         M1C  43.784535 -79.160497\n",
       "2         M1E  43.763573 -79.188711\n",
       "3         M1G  43.770992 -79.216917\n",
       "4         M1H  43.773136 -79.239476"
      ]
     },
     "execution_count": 9,
     "metadata": {},
     "output_type": "execute_result"
    }
   ],
   "source": [
    "df2 = pd.read_csv('http://cocl.us/Geospatial_data')\n",
    "df2.head()"
   ]
  },
  {
   "cell_type": "code",
   "execution_count": 10,
   "metadata": {},
   "outputs": [
    {
     "data": {
      "text/html": [
       "<div>\n",
       "<style scoped>\n",
       "    .dataframe tbody tr th:only-of-type {\n",
       "        vertical-align: middle;\n",
       "    }\n",
       "\n",
       "    .dataframe tbody tr th {\n",
       "        vertical-align: top;\n",
       "    }\n",
       "\n",
       "    .dataframe thead th {\n",
       "        text-align: right;\n",
       "    }\n",
       "</style>\n",
       "<table border=\"1\" class=\"dataframe\">\n",
       "  <thead>\n",
       "    <tr style=\"text-align: right;\">\n",
       "      <th></th>\n",
       "      <th>Postcode</th>\n",
       "      <th>Borough</th>\n",
       "      <th>Neighborhood</th>\n",
       "      <th>Latitude</th>\n",
       "      <th>Longitude</th>\n",
       "    </tr>\n",
       "  </thead>\n",
       "  <tbody>\n",
       "    <tr>\n",
       "      <th>0</th>\n",
       "      <td>M1B</td>\n",
       "      <td>Scarborough</td>\n",
       "      <td>Rouge, Malvern</td>\n",
       "      <td>43.806686</td>\n",
       "      <td>-79.194353</td>\n",
       "    </tr>\n",
       "    <tr>\n",
       "      <th>1</th>\n",
       "      <td>M1C</td>\n",
       "      <td>Scarborough</td>\n",
       "      <td>Highland Creek, Rouge Hill, Port Union</td>\n",
       "      <td>43.784535</td>\n",
       "      <td>-79.160497</td>\n",
       "    </tr>\n",
       "    <tr>\n",
       "      <th>2</th>\n",
       "      <td>M1E</td>\n",
       "      <td>Scarborough</td>\n",
       "      <td>Guildwood, Morningside, West Hill</td>\n",
       "      <td>43.763573</td>\n",
       "      <td>-79.188711</td>\n",
       "    </tr>\n",
       "    <tr>\n",
       "      <th>3</th>\n",
       "      <td>M1G</td>\n",
       "      <td>Scarborough</td>\n",
       "      <td>Woburn</td>\n",
       "      <td>43.770992</td>\n",
       "      <td>-79.216917</td>\n",
       "    </tr>\n",
       "    <tr>\n",
       "      <th>4</th>\n",
       "      <td>M1H</td>\n",
       "      <td>Scarborough</td>\n",
       "      <td>Cedarbrae</td>\n",
       "      <td>43.773136</td>\n",
       "      <td>-79.239476</td>\n",
       "    </tr>\n",
       "    <tr>\n",
       "      <th>5</th>\n",
       "      <td>M1J</td>\n",
       "      <td>Scarborough</td>\n",
       "      <td>Scarborough Village</td>\n",
       "      <td>43.744734</td>\n",
       "      <td>-79.239476</td>\n",
       "    </tr>\n",
       "    <tr>\n",
       "      <th>6</th>\n",
       "      <td>M1K</td>\n",
       "      <td>Scarborough</td>\n",
       "      <td>East Birchmount Park, Ionview, Kennedy Park</td>\n",
       "      <td>43.727929</td>\n",
       "      <td>-79.262029</td>\n",
       "    </tr>\n",
       "    <tr>\n",
       "      <th>7</th>\n",
       "      <td>M1L</td>\n",
       "      <td>Scarborough</td>\n",
       "      <td>Clairlea, Golden Mile, Oakridge</td>\n",
       "      <td>43.711112</td>\n",
       "      <td>-79.284577</td>\n",
       "    </tr>\n",
       "    <tr>\n",
       "      <th>8</th>\n",
       "      <td>M1M</td>\n",
       "      <td>Scarborough</td>\n",
       "      <td>Cliffcrest, Cliffside, Scarborough Village West</td>\n",
       "      <td>43.716316</td>\n",
       "      <td>-79.239476</td>\n",
       "    </tr>\n",
       "    <tr>\n",
       "      <th>9</th>\n",
       "      <td>M1N</td>\n",
       "      <td>Scarborough</td>\n",
       "      <td>Birch Cliff, Cliffside West</td>\n",
       "      <td>43.692657</td>\n",
       "      <td>-79.264848</td>\n",
       "    </tr>\n",
       "    <tr>\n",
       "      <th>10</th>\n",
       "      <td>M1P</td>\n",
       "      <td>Scarborough</td>\n",
       "      <td>Dorset Park, Scarborough Town Centre, Wexford ...</td>\n",
       "      <td>43.757410</td>\n",
       "      <td>-79.273304</td>\n",
       "    </tr>\n",
       "    <tr>\n",
       "      <th>11</th>\n",
       "      <td>M1R</td>\n",
       "      <td>Scarborough</td>\n",
       "      <td>Maryvale, Wexford</td>\n",
       "      <td>43.750072</td>\n",
       "      <td>-79.295849</td>\n",
       "    </tr>\n",
       "  </tbody>\n",
       "</table>\n",
       "</div>"
      ],
      "text/plain": [
       "   Postcode      Borough                                       Neighborhood  \\\n",
       "0       M1B  Scarborough                                     Rouge, Malvern   \n",
       "1       M1C  Scarborough             Highland Creek, Rouge Hill, Port Union   \n",
       "2       M1E  Scarborough                  Guildwood, Morningside, West Hill   \n",
       "3       M1G  Scarborough                                             Woburn   \n",
       "4       M1H  Scarborough                                          Cedarbrae   \n",
       "5       M1J  Scarborough                                Scarborough Village   \n",
       "6       M1K  Scarborough        East Birchmount Park, Ionview, Kennedy Park   \n",
       "7       M1L  Scarborough                    Clairlea, Golden Mile, Oakridge   \n",
       "8       M1M  Scarborough    Cliffcrest, Cliffside, Scarborough Village West   \n",
       "9       M1N  Scarborough                        Birch Cliff, Cliffside West   \n",
       "10      M1P  Scarborough  Dorset Park, Scarborough Town Centre, Wexford ...   \n",
       "11      M1R  Scarborough                                  Maryvale, Wexford   \n",
       "\n",
       "     Latitude  Longitude  \n",
       "0   43.806686 -79.194353  \n",
       "1   43.784535 -79.160497  \n",
       "2   43.763573 -79.188711  \n",
       "3   43.770992 -79.216917  \n",
       "4   43.773136 -79.239476  \n",
       "5   43.744734 -79.239476  \n",
       "6   43.727929 -79.262029  \n",
       "7   43.711112 -79.284577  \n",
       "8   43.716316 -79.239476  \n",
       "9   43.692657 -79.264848  \n",
       "10  43.757410 -79.273304  \n",
       "11  43.750072 -79.295849  "
      ]
     },
     "execution_count": 10,
     "metadata": {},
     "output_type": "execute_result"
    }
   ],
   "source": [
    "df2.columns = ['Postcode', 'Latitude', 'Longitude']  \n",
    "dfcombined = pd.merge(df_grouped, df2, on=['Postcode'], how='inner')  ##Merging the two dataframes\n",
    "dfcombined.shape\n",
    "dfcombined.head(12)"
   ]
  },
  {
   "cell_type": "markdown",
   "metadata": {},
   "source": [
    "# 3.Exploring and Clustering in Canada"
   ]
  },
  {
   "cell_type": "code",
   "execution_count": 11,
   "metadata": {},
   "outputs": [
    {
     "data": {
      "text/html": [
       "<div>\n",
       "<style scoped>\n",
       "    .dataframe tbody tr th:only-of-type {\n",
       "        vertical-align: middle;\n",
       "    }\n",
       "\n",
       "    .dataframe tbody tr th {\n",
       "        vertical-align: top;\n",
       "    }\n",
       "\n",
       "    .dataframe thead th {\n",
       "        text-align: right;\n",
       "    }\n",
       "</style>\n",
       "<table border=\"1\" class=\"dataframe\">\n",
       "  <thead>\n",
       "    <tr style=\"text-align: right;\">\n",
       "      <th></th>\n",
       "      <th>Borough</th>\n",
       "      <th>Neighborhood</th>\n",
       "      <th>Latitude</th>\n",
       "      <th>Longitude</th>\n",
       "    </tr>\n",
       "  </thead>\n",
       "  <tbody>\n",
       "    <tr>\n",
       "      <th>0</th>\n",
       "      <td>Scarborough</td>\n",
       "      <td>Rouge, Malvern</td>\n",
       "      <td>43.806686</td>\n",
       "      <td>-79.194353</td>\n",
       "    </tr>\n",
       "    <tr>\n",
       "      <th>1</th>\n",
       "      <td>Scarborough</td>\n",
       "      <td>Highland Creek, Rouge Hill, Port Union</td>\n",
       "      <td>43.784535</td>\n",
       "      <td>-79.160497</td>\n",
       "    </tr>\n",
       "    <tr>\n",
       "      <th>2</th>\n",
       "      <td>Scarborough</td>\n",
       "      <td>Guildwood, Morningside, West Hill</td>\n",
       "      <td>43.763573</td>\n",
       "      <td>-79.188711</td>\n",
       "    </tr>\n",
       "    <tr>\n",
       "      <th>3</th>\n",
       "      <td>Scarborough</td>\n",
       "      <td>Woburn</td>\n",
       "      <td>43.770992</td>\n",
       "      <td>-79.216917</td>\n",
       "    </tr>\n",
       "    <tr>\n",
       "      <th>4</th>\n",
       "      <td>Scarborough</td>\n",
       "      <td>Cedarbrae</td>\n",
       "      <td>43.773136</td>\n",
       "      <td>-79.239476</td>\n",
       "    </tr>\n",
       "  </tbody>\n",
       "</table>\n",
       "</div>"
      ],
      "text/plain": [
       "       Borough                            Neighborhood   Latitude  Longitude\n",
       "0  Scarborough                          Rouge, Malvern  43.806686 -79.194353\n",
       "1  Scarborough  Highland Creek, Rouge Hill, Port Union  43.784535 -79.160497\n",
       "2  Scarborough       Guildwood, Morningside, West Hill  43.763573 -79.188711\n",
       "3  Scarborough                                  Woburn  43.770992 -79.216917\n",
       "4  Scarborough                               Cedarbrae  43.773136 -79.239476"
      ]
     },
     "execution_count": 11,
     "metadata": {},
     "output_type": "execute_result"
    }
   ],
   "source": [
    "neighborhoods = dfcombined[['Borough', 'Neighborhood', 'Latitude', 'Longitude']]\n",
    "neighborhoods.head()"
   ]
  },
  {
   "cell_type": "code",
   "execution_count": 12,
   "metadata": {},
   "outputs": [
    {
     "name": "stdout",
     "output_type": "stream",
     "text": [
      "The dataframe has 11 boroughs and 103 neighborhoods.\n"
     ]
    }
   ],
   "source": [
    "print('The dataframe has {} boroughs and {} neighborhoods.'.format(\n",
    "        len(neighborhoods['Borough'].unique()),\n",
    "        neighborhoods.shape[0]\n",
    "    )\n",
    ")"
   ]
  },
  {
   "cell_type": "code",
   "execution_count": 13,
   "metadata": {},
   "outputs": [
    {
     "data": {
      "text/plain": [
       "array(['Scarborough', 'North York', 'East York', 'East Toronto',\n",
       "       'Central Toronto', 'Downtown Toronto', 'York', 'West Toronto',\n",
       "       \"Queen's Park\", 'Mississauga', 'Etobicoke'], dtype=object)"
      ]
     },
     "execution_count": 13,
     "metadata": {},
     "output_type": "execute_result"
    }
   ],
   "source": [
    "neighborhoods['Borough'].unique()"
   ]
  },
  {
   "cell_type": "markdown",
   "metadata": {},
   "source": [
    "### Segmenting and cluster only the neighborhoods in Toronto"
   ]
  },
  {
   "cell_type": "code",
   "execution_count": 15,
   "metadata": {},
   "outputs": [
    {
     "name": "stdout",
     "output_type": "stream",
     "text": [
      "The geograpical coordinates of Toronto are 43.653963, -79.387207.\n"
     ]
    }
   ],
   "source": [
    "address = 'Toronto, Canada'\n",
    "geolocator = Nominatim(user_agent=\"toronto_explorer\")\n",
    "location = geolocator.geocode(address)\n",
    "latitude = location.latitude\n",
    "longitude = location.longitude\n",
    "print('The geograpical coordinates of Toronto are {}, {}.'.format(latitude, longitude))"
   ]
  },
  {
   "cell_type": "markdown",
   "metadata": {},
   "source": [
    "## Map of Toronto"
   ]
  },
  {
   "cell_type": "code",
   "execution_count": 17,
   "metadata": {},
   "outputs": [
    {
     "data": {
      "text/html": [
       "<div style=\"width:100%;\"><div style=\"position:relative;width:100%;height:0;padding-bottom:60%;\"><iframe src=\"data:text/html;charset=utf-8;base64,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\" style=\"position:absolute;width:100%;height:100%;left:0;top:0;border:none !important;\" allowfullscreen webkitallowfullscreen mozallowfullscreen></iframe></div></div>"
      ],
      "text/plain": [
       "<folium.folium.Map at 0x2068942c548>"
      ]
     },
     "execution_count": 17,
     "metadata": {},
     "output_type": "execute_result"
    }
   ],
   "source": [
    "map_toronto = folium.Map(location=[latitude, longitude], zoom_start=11)\n",
    "\n",
    "# add markers to map\n",
    "for lat, lng, label in zip(dfcombined['Latitude'], dfcombined['Longitude'], dfcombined['Neighborhood']):\n",
    "    label = folium.Popup(label, parse_html=True)\n",
    "    folium.CircleMarker(\n",
    "        [lat, lng],\n",
    "        radius=5,\n",
    "        popup=label,\n",
    "        color='blue',\n",
    "        fill=True,\n",
    "        fill_color='#3186cc',\n",
    "        fill_opacity=0.7,\n",
    "        parse_html=False).add_to(map_toronto)  \n",
    "    \n",
    "map_toronto"
   ]
  },
  {
   "cell_type": "code",
   "execution_count": null,
   "metadata": {},
   "outputs": [],
   "source": []
  }
 ],
 "metadata": {
  "kernelspec": {
   "display_name": "Python 3",
   "language": "python",
   "name": "python3"
  },
  "language_info": {
   "codemirror_mode": {
    "name": "ipython",
    "version": 3
   },
   "file_extension": ".py",
   "mimetype": "text/x-python",
   "name": "python",
   "nbconvert_exporter": "python",
   "pygments_lexer": "ipython3",
   "version": "3.7.4"
  }
 },
 "nbformat": 4,
 "nbformat_minor": 2
}
